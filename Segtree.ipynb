{
 "cells": [
  {
   "cell_type": "code",
   "execution_count": 1,
   "metadata": {},
   "outputs": [],
   "source": [
    "import numpy as np\n",
    "from SegTree import *\n",
    "from LazySegTree import *\n",
    "import time\n",
    "import pandas as pd\n",
    "import matplotlib.pyplot as plt"
   ]
  },
  {
   "cell_type": "code",
   "execution_count": 27,
   "metadata": {},
   "outputs": [],
   "source": [
    "def compare(n=100000,repetitions = 10,m=100000,update_probability=0.1,skip_nonlazy=False):\n",
    "    limit = 10000\n",
    "    size = n\n",
    "    n_ops = m\n",
    "    times = []\n",
    "    for i in range(repetitions):\n",
    "        start = time.time()\n",
    "        run_python_operations(limit, size, n_ops,update_probability=update_probability,seed=i)\n",
    "        times.append(time.time()-start)\n",
    "    t1=np.mean(times)\n",
    "    print(f'Default Python time: {t1} seconds.')\n",
    "\n",
    "    if not skip_nonlazy:\n",
    "        times = []\n",
    "        for i in range(repetitions):\n",
    "            start = time.time()\n",
    "            run_segtree_operations(limit, size, n_ops, lazy=False,update_probability=update_probability,seed=i)\n",
    "            times.append(time.time()-start)\n",
    "        t2 = np.mean(times)\n",
    "    t2=np.nan\n",
    "    print(f'Segtree without lazy propagation: {t2} seconds.')\n",
    "    times = []\n",
    "    for i in range(repetitions):\n",
    "        start = time.time()\n",
    "        run_segtree_operations(limit, size, n_ops, lazy=True,update_probability=update_probability,seed=i)\n",
    "        times.append(time.time()-start)\n",
    "    t3 = np.mean(times)\n",
    "    print(f'Segtree with lazy propagation: {t3} seconds.')\n",
    "    return [t1,t2,t3]\n",
    "\n",
    "def run_python_operations(limit, size, n_ops, update_probability=0 ,seed=0):\n",
    "    np.random.seed(seed)\n",
    "    arr = np.random.randint(0, limit, size=size).tolist()\n",
    "    split = (1-update_probability)/2\n",
    "    for i in range(n_ops):\n",
    "        #operation\n",
    "        op = np.random.rand()\n",
    "        #left and right bounds\n",
    "        l = np.random.randint(0,len(arr))\n",
    "        r = np.random.randint(l,len(arr))\n",
    "\n",
    "        if op <=split: # query minimum\n",
    "            min(arr[l:r+1])\n",
    "        elif op <= 2*split: #query sum\n",
    "            sum(arr[l:r])\n",
    "        else: #update\n",
    "            value = np.random.randint(0, limit)\n",
    "            update = lambda splice : (x+value for x in splice)\n",
    "            arr[l:r] = update(arr[l:r])\n",
    "    \n",
    "    return\n",
    "\n",
    "def run_segtree_operations(limit, size, n_ops,update_probability=0, seed=0,lazy=False):\n",
    "    np.random.seed(seed)\n",
    "    arr = np.random.randint(0, limit, size=size).tolist()\n",
    "    split = (1-update_probability)/2\n",
    "    if lazy:\n",
    "        seg = LazySegTree(arr)\n",
    "    else:\n",
    "        seg = SegTree(arr)\n",
    "\n",
    "    for i in range(n_ops):\n",
    "        #operation\n",
    "        op = np.random.rand()\n",
    "        #left and right bounds\n",
    "        l = np.random.randint(0,len(arr))\n",
    "        r = np.random.randint(l,len(arr))\n",
    "\n",
    "        if op <=split: # query minimum\n",
    "            seg.queryMin(l,r)\n",
    "        elif op <= 2*split: #query sum\n",
    "            seg.querySum(l,r)\n",
    "        else: #update\n",
    "            value = np.random.randint(0, limit)\n",
    "            seg.update(l,r,value)\n",
    "    \n",
    "    return"
   ]
  },
  {
   "cell_type": "code",
   "execution_count": 9,
   "metadata": {},
   "outputs": [
    {
     "name": "stdout",
     "output_type": "stream",
     "text": [
      "Default Python time: 0.07710976600646972 seconds.\n",
      "Segtree without lazy propagation: 0.18901503086090088 seconds.\n",
      "Segtree with lazy propagation: 0.1914144992828369 seconds.\n",
      "Default Python time: 0.11296298503875732 seconds.\n",
      "Segtree without lazy propagation: 0.4739459753036499 seconds.\n",
      "Segtree with lazy propagation: 0.30888166427612307 seconds.\n",
      "Default Python time: 0.40865654945373536 seconds.\n",
      "Segtree without lazy propagation: 2.7287153720855715 seconds.\n",
      "Segtree with lazy propagation: 0.5761997699737549 seconds.\n",
      "Default Python time: 5.154126143455505 seconds.\n",
      "Segtree without lazy propagation: 23.85860433578491 seconds.\n",
      "Segtree with lazy propagation: 1.3637008190155029 seconds.\n",
      "Default Python time: 75.71535444259644 seconds.\n",
      "Segtree without lazy propagation: 230.21457192897796 seconds.\n",
      "Segtree with lazy propagation: 7.948265552520752 seconds.\n"
     ]
    }
   ],
   "source": [
    "nComparison = pd.DataFrame(columns=['Python','Segment Tree','Segment Tree w/ Lazy Propagation'])\n",
    "ns = [10**2,10**3,10**4,10**5,10**6]\n",
    "m = 10**4\n",
    "for n in ns:\n",
    "    nComparison.loc[len(nComparison)] = compare(n=n,m=m,update_probability=0.05)"
   ]
  },
  {
   "cell_type": "code",
   "execution_count": 10,
   "metadata": {},
   "outputs": [],
   "source": [
    "nComparison.index = ns"
   ]
  },
  {
   "cell_type": "code",
   "execution_count": 12,
   "metadata": {},
   "outputs": [
    {
     "data": {
      "text/html": [
       "<div>\n",
       "<style scoped>\n",
       "    .dataframe tbody tr th:only-of-type {\n",
       "        vertical-align: middle;\n",
       "    }\n",
       "\n",
       "    .dataframe tbody tr th {\n",
       "        vertical-align: top;\n",
       "    }\n",
       "\n",
       "    .dataframe thead th {\n",
       "        text-align: right;\n",
       "    }\n",
       "</style>\n",
       "<table border=\"1\" class=\"dataframe\">\n",
       "  <thead>\n",
       "    <tr style=\"text-align: right;\">\n",
       "      <th></th>\n",
       "      <th>Python</th>\n",
       "      <th>Segment Tree</th>\n",
       "      <th>Segment Tree w/ Lazy Propagation</th>\n",
       "    </tr>\n",
       "  </thead>\n",
       "  <tbody>\n",
       "    <tr>\n",
       "      <th>100</th>\n",
       "      <td>0.077110</td>\n",
       "      <td>0.189015</td>\n",
       "      <td>0.191414</td>\n",
       "    </tr>\n",
       "    <tr>\n",
       "      <th>1000</th>\n",
       "      <td>0.112963</td>\n",
       "      <td>0.473946</td>\n",
       "      <td>0.308882</td>\n",
       "    </tr>\n",
       "    <tr>\n",
       "      <th>10000</th>\n",
       "      <td>0.408657</td>\n",
       "      <td>2.728715</td>\n",
       "      <td>0.576200</td>\n",
       "    </tr>\n",
       "    <tr>\n",
       "      <th>100000</th>\n",
       "      <td>5.154126</td>\n",
       "      <td>23.858604</td>\n",
       "      <td>1.363701</td>\n",
       "    </tr>\n",
       "    <tr>\n",
       "      <th>1000000</th>\n",
       "      <td>75.715354</td>\n",
       "      <td>230.214572</td>\n",
       "      <td>7.948266</td>\n",
       "    </tr>\n",
       "  </tbody>\n",
       "</table>\n",
       "</div>"
      ],
      "text/plain": [
       "            Python  Segment Tree  Segment Tree w/ Lazy Propagation\n",
       "100       0.077110      0.189015                          0.191414\n",
       "1000      0.112963      0.473946                          0.308882\n",
       "10000     0.408657      2.728715                          0.576200\n",
       "100000    5.154126     23.858604                          1.363701\n",
       "1000000  75.715354    230.214572                          7.948266"
      ]
     },
     "execution_count": 12,
     "metadata": {},
     "output_type": "execute_result"
    }
   ],
   "source": [
    "nComparison"
   ]
  },
  {
   "cell_type": "code",
   "execution_count": null,
   "metadata": {},
   "outputs": [
    {
     "data": {
      "image/png": "[encoded data removed]",
      "text/plain": [
       "<Figure size 576x432 with 1 Axes>"
      ]
     },
     "metadata": {
      "needs_background": "light"
     },
     "output_type": "display_data"
    }
   ],
   "source": [
    "nComparison.plot(figsize=(8,6))\n",
    "plt.xlabel('Size of array')\n",
    "plt.ylabel('Time(s)')\n",
    "plt.xscale('log')\n",
    "plt.show()"
   ]
  },
  {
   "cell_type": "code",
   "execution_count": null,
   "metadata": {},
   "outputs": [],
   "source": [
    "opComparison = pd.DataFrame(columns=['Python','Segment Tree','Segment Tree w/ Lazy Propagation'])"
   ]
  },
  {
   "cell_type": "code",
   "execution_count": 28,
   "metadata": {},
   "outputs": [
    {
     "name": "stdout",
     "output_type": "stream",
     "text": [
      "Default Python time: 11.20081205368042 seconds.\n",
      "Segtree without lazy propagation: nan seconds.\n",
      "Segtree with lazy propagation: 1.6158000707626343 seconds.\n",
      "Default Python time: 15.800447630882264 seconds.\n",
      "Segtree without lazy propagation: nan seconds.\n",
      "Segtree with lazy propagation: 1.673483633995056 seconds.\n",
      "Default Python time: 16.42021825313568 seconds.\n",
      "Segtree without lazy propagation: nan seconds.\n",
      "Segtree with lazy propagation: 1.6701612710952758 seconds.\n",
      "Default Python time: 17.784100031852724 seconds.\n",
      "Segtree without lazy propagation: nan seconds.\n",
      "Segtree with lazy propagation: 1.6037217378616333 seconds.\n",
      "Default Python time: 19.048831057548522 seconds.\n",
      "Segtree without lazy propagation: nan seconds.\n",
      "Segtree with lazy propagation: 1.6632397413253783 seconds.\n",
      "Default Python time: 20.76751365661621 seconds.\n",
      "Segtree without lazy propagation: nan seconds.\n",
      "Segtree with lazy propagation: 1.6911156177520752 seconds.\n",
      "Default Python time: 22.62471652030945 seconds.\n",
      "Segtree without lazy propagation: nan seconds.\n",
      "Segtree with lazy propagation: 1.7542532444000245 seconds.\n"
     ]
    },
    {
     "ename": "ValueError",
     "evalue": "Length mismatch: Expected axis has 11 elements, new values have 7 elements",
     "output_type": "error",
     "traceback": [
      "\u001b[1;31m---------------------------------------------------------------------------\u001b[0m",
      "\u001b[1;31mValueError\u001b[0m                                Traceback (most recent call last)",
      "\u001b[1;32mc:\\Users\\msart\\Documentos\\programacao\\AlgAvançado\\Segtree.ipynb Cell 8\u001b[0m in \u001b[0;36m<cell line: 6>\u001b[1;34m()\u001b[0m\n\u001b[0;32m      <a href='vscode-notebook-cell:/c%3A/Users/msart/Documentos/programacao/AlgAvan%C3%A7ado/Segtree.ipynb#W4sZmlsZQ%3D%3D?line=3'>4</a>\u001b[0m \u001b[39mfor\u001b[39;00m op \u001b[39min\u001b[39;00m ops:\n\u001b[0;32m      <a href='vscode-notebook-cell:/c%3A/Users/msart/Documentos/programacao/AlgAvan%C3%A7ado/Segtree.ipynb#W4sZmlsZQ%3D%3D?line=4'>5</a>\u001b[0m     opComparison\u001b[39m.\u001b[39mloc[\u001b[39mlen\u001b[39m(opComparison)] \u001b[39m=\u001b[39m compare(n\u001b[39m=\u001b[39mn,m\u001b[39m=\u001b[39mm,update_probability\u001b[39m=\u001b[39mop,skip_nonlazy\u001b[39m=\u001b[39m\u001b[39mTrue\u001b[39;00m)\n\u001b[1;32m----> <a href='vscode-notebook-cell:/c%3A/Users/msart/Documentos/programacao/AlgAvan%C3%A7ado/Segtree.ipynb#W4sZmlsZQ%3D%3D?line=5'>6</a>\u001b[0m opComparison\u001b[39m.\u001b[39mindex\u001b[39m=\u001b[39mops\n",
      "File \u001b[1;32mc:\\Users\\msart\\anaconda3\\envs\\Ic\\lib\\site-packages\\pandas\\core\\generic.py:5588\u001b[0m, in \u001b[0;36mNDFrame.__setattr__\u001b[1;34m(self, name, value)\u001b[0m\n\u001b[0;32m   5586\u001b[0m \u001b[39mtry\u001b[39;00m:\n\u001b[0;32m   5587\u001b[0m     \u001b[39mobject\u001b[39m\u001b[39m.\u001b[39m\u001b[39m__getattribute__\u001b[39m(\u001b[39mself\u001b[39m, name)\n\u001b[1;32m-> 5588\u001b[0m     \u001b[39mreturn\u001b[39;00m \u001b[39mobject\u001b[39;49m\u001b[39m.\u001b[39;49m\u001b[39m__setattr__\u001b[39;49m(\u001b[39mself\u001b[39;49m, name, value)\n\u001b[0;32m   5589\u001b[0m \u001b[39mexcept\u001b[39;00m \u001b[39mAttributeError\u001b[39;00m:\n\u001b[0;32m   5590\u001b[0m     \u001b[39mpass\u001b[39;00m\n",
      "File \u001b[1;32mc:\\Users\\msart\\anaconda3\\envs\\Ic\\lib\\site-packages\\pandas\\_libs\\properties.pyx:70\u001b[0m, in \u001b[0;36mpandas._libs.properties.AxisProperty.__set__\u001b[1;34m()\u001b[0m\n",
      "File \u001b[1;32mc:\\Users\\msart\\anaconda3\\envs\\Ic\\lib\\site-packages\\pandas\\core\\generic.py:769\u001b[0m, in \u001b[0;36mNDFrame._set_axis\u001b[1;34m(self, axis, labels)\u001b[0m\n\u001b[0;32m    767\u001b[0m \u001b[39mdef\u001b[39;00m \u001b[39m_set_axis\u001b[39m(\u001b[39mself\u001b[39m, axis: \u001b[39mint\u001b[39m, labels: Index) \u001b[39m-\u001b[39m\u001b[39m>\u001b[39m \u001b[39mNone\u001b[39;00m:\n\u001b[0;32m    768\u001b[0m     labels \u001b[39m=\u001b[39m ensure_index(labels)\n\u001b[1;32m--> 769\u001b[0m     \u001b[39mself\u001b[39;49m\u001b[39m.\u001b[39;49m_mgr\u001b[39m.\u001b[39;49mset_axis(axis, labels)\n\u001b[0;32m    770\u001b[0m     \u001b[39mself\u001b[39m\u001b[39m.\u001b[39m_clear_item_cache()\n",
      "File \u001b[1;32mc:\\Users\\msart\\anaconda3\\envs\\Ic\\lib\\site-packages\\pandas\\core\\internals\\managers.py:214\u001b[0m, in \u001b[0;36mBaseBlockManager.set_axis\u001b[1;34m(self, axis, new_labels)\u001b[0m\n\u001b[0;32m    212\u001b[0m \u001b[39mdef\u001b[39;00m \u001b[39mset_axis\u001b[39m(\u001b[39mself\u001b[39m, axis: \u001b[39mint\u001b[39m, new_labels: Index) \u001b[39m-\u001b[39m\u001b[39m>\u001b[39m \u001b[39mNone\u001b[39;00m:\n\u001b[0;32m    213\u001b[0m     \u001b[39m# Caller is responsible for ensuring we have an Index object.\u001b[39;00m\n\u001b[1;32m--> 214\u001b[0m     \u001b[39mself\u001b[39;49m\u001b[39m.\u001b[39;49m_validate_set_axis(axis, new_labels)\n\u001b[0;32m    215\u001b[0m     \u001b[39mself\u001b[39m\u001b[39m.\u001b[39maxes[axis] \u001b[39m=\u001b[39m new_labels\n",
      "File \u001b[1;32mc:\\Users\\msart\\anaconda3\\envs\\Ic\\lib\\site-packages\\pandas\\core\\internals\\base.py:69\u001b[0m, in \u001b[0;36mDataManager._validate_set_axis\u001b[1;34m(self, axis, new_labels)\u001b[0m\n\u001b[0;32m     66\u001b[0m     \u001b[39mpass\u001b[39;00m\n\u001b[0;32m     68\u001b[0m \u001b[39melif\u001b[39;00m new_len \u001b[39m!=\u001b[39m old_len:\n\u001b[1;32m---> 69\u001b[0m     \u001b[39mraise\u001b[39;00m \u001b[39mValueError\u001b[39;00m(\n\u001b[0;32m     70\u001b[0m         \u001b[39mf\u001b[39m\u001b[39m\"\u001b[39m\u001b[39mLength mismatch: Expected axis has \u001b[39m\u001b[39m{\u001b[39;00mold_len\u001b[39m}\u001b[39;00m\u001b[39m elements, new \u001b[39m\u001b[39m\"\u001b[39m\n\u001b[0;32m     71\u001b[0m         \u001b[39mf\u001b[39m\u001b[39m\"\u001b[39m\u001b[39mvalues have \u001b[39m\u001b[39m{\u001b[39;00mnew_len\u001b[39m}\u001b[39;00m\u001b[39m elements\u001b[39m\u001b[39m\"\u001b[39m\n\u001b[0;32m     72\u001b[0m     )\n",
      "\u001b[1;31mValueError\u001b[0m: Length mismatch: Expected axis has 11 elements, new values have 7 elements"
     ]
    }
   ],
   "source": [
    "\n",
    "ops = [0.1,0.2,0.3,0.4,0.5,0.6,0.7,0.8,0.9,1]\n",
    "n = 10**5\n",
    "m = 10**4\n",
    "for op in ops:\n",
    "    opComparison.loc[len(opComparison)] = compare(n=n,m=m,update_probability=op,skip_nonlazy=True)\n",
    "opComparison.index=ops"
   ]
  },
  {
   "cell_type": "code",
   "execution_count": 30,
   "metadata": {},
   "outputs": [
    {
     "data": {
      "image/png": "[encoded data removed]",
      "text/plain": [
       "<Figure size 576x432 with 1 Axes>"
      ]
     },
     "metadata": {
      "needs_background": "light"
     },
     "output_type": "display_data"
    }
   ],
   "source": [
    "opComparison.plot(figsize=(8,6))\n",
    "plt.xlabel('Size of array')\n",
    "plt.ylabel('Time(s)')\n",
    "plt.show()"
   ]
  },
  {
   "cell_type": "code",
   "execution_count": 31,
   "metadata": {},
   "outputs": [
    {
     "data": {
      "text/html": [
       "<div>\n",
       "<style scoped>\n",
       "    .dataframe tbody tr th:only-of-type {\n",
       "        vertical-align: middle;\n",
       "    }\n",
       "\n",
       "    .dataframe tbody tr th {\n",
       "        vertical-align: top;\n",
       "    }\n",
       "\n",
       "    .dataframe thead th {\n",
       "        text-align: right;\n",
       "    }\n",
       "</style>\n",
       "<table border=\"1\" class=\"dataframe\">\n",
       "  <thead>\n",
       "    <tr style=\"text-align: right;\">\n",
       "      <th></th>\n",
       "      <th>Python</th>\n",
       "      <th>Segment Tree</th>\n",
       "      <th>Segment Tree w/ Lazy Propagation</th>\n",
       "    </tr>\n",
       "  </thead>\n",
       "  <tbody>\n",
       "    <tr>\n",
       "      <th>0.0</th>\n",
       "      <td>2.734669</td>\n",
       "      <td>1.212784</td>\n",
       "      <td>1.300924</td>\n",
       "    </tr>\n",
       "    <tr>\n",
       "      <th>0.1</th>\n",
       "      <td>7.559742</td>\n",
       "      <td>47.677828</td>\n",
       "      <td>1.445500</td>\n",
       "    </tr>\n",
       "    <tr>\n",
       "      <th>0.2</th>\n",
       "      <td>7.863501</td>\n",
       "      <td>93.790845</td>\n",
       "      <td>1.462800</td>\n",
       "    </tr>\n",
       "    <tr>\n",
       "      <th>0.3</th>\n",
       "      <td>9.207000</td>\n",
       "      <td>140.700101</td>\n",
       "      <td>1.496899</td>\n",
       "    </tr>\n",
       "    <tr>\n",
       "      <th>0.4</th>\n",
       "      <td>11.200812</td>\n",
       "      <td>NaN</td>\n",
       "      <td>1.615800</td>\n",
       "    </tr>\n",
       "    <tr>\n",
       "      <th>0.5</th>\n",
       "      <td>15.800448</td>\n",
       "      <td>NaN</td>\n",
       "      <td>1.673484</td>\n",
       "    </tr>\n",
       "    <tr>\n",
       "      <th>0.6</th>\n",
       "      <td>16.420218</td>\n",
       "      <td>NaN</td>\n",
       "      <td>1.670161</td>\n",
       "    </tr>\n",
       "    <tr>\n",
       "      <th>0.7</th>\n",
       "      <td>17.784100</td>\n",
       "      <td>NaN</td>\n",
       "      <td>1.603722</td>\n",
       "    </tr>\n",
       "    <tr>\n",
       "      <th>0.8</th>\n",
       "      <td>19.048831</td>\n",
       "      <td>NaN</td>\n",
       "      <td>1.663240</td>\n",
       "    </tr>\n",
       "    <tr>\n",
       "      <th>0.9</th>\n",
       "      <td>20.767514</td>\n",
       "      <td>NaN</td>\n",
       "      <td>1.691116</td>\n",
       "    </tr>\n",
       "    <tr>\n",
       "      <th>1.0</th>\n",
       "      <td>22.624717</td>\n",
       "      <td>NaN</td>\n",
       "      <td>1.754253</td>\n",
       "    </tr>\n",
       "  </tbody>\n",
       "</table>\n",
       "</div>"
      ],
      "text/plain": [
       "        Python  Segment Tree  Segment Tree w/ Lazy Propagation\n",
       "0.0   2.734669      1.212784                          1.300924\n",
       "0.1   7.559742     47.677828                          1.445500\n",
       "0.2   7.863501     93.790845                          1.462800\n",
       "0.3   9.207000    140.700101                          1.496899\n",
       "0.4  11.200812           NaN                          1.615800\n",
       "0.5  15.800448           NaN                          1.673484\n",
       "0.6  16.420218           NaN                          1.670161\n",
       "0.7  17.784100           NaN                          1.603722\n",
       "0.8  19.048831           NaN                          1.663240\n",
       "0.9  20.767514           NaN                          1.691116\n",
       "1.0  22.624717           NaN                          1.754253"
      ]
     },
     "execution_count": 31,
     "metadata": {},
     "output_type": "execute_result"
    }
   ],
   "source": [
    "opComparison"
   ]
  },
  {
   "cell_type": "code",
   "execution_count": null,
   "metadata": {},
   "outputs": [],
   "source": []
  }
 ],
 "metadata": {
  "kernelspec": {
   "display_name": "Python 3.9.12 ('Ic')",
   "language": "python",
   "name": "python3"
  },
  "language_info": {
   "codemirror_mode": {
    "name": "ipython",
    "version": 3
   },
   "file_extension": ".py",
   "mimetype": "text/x-python",
   "name": "python",
   "nbconvert_exporter": "python",
   "pygments_lexer": "ipython3",
   "version": "3.9.12"
  },
  "orig_nbformat": 4,
  "vscode": {
   "interpreter": {
    "hash": "921f39d10cb5f912c6508d118b8eb7aebc6da4262cc7c609d531b2ccd3324a7f"
   }
  }
 },
 "nbformat": 4,
 "nbformat_minor": 2
}
